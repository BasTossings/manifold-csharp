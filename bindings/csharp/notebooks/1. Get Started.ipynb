{
 "cells": [
  {
   "cell_type": "markdown",
   "metadata": {},
   "source": [
    "# Get Started 🚀\n",
    "\n",
    "> To get started, you need to reference the NuGet package"
   ]
  },
  {
   "cell_type": "code",
   "execution_count": 12,
   "metadata": {
    "dotnet_interactive": {
     "language": "csharp"
    },
    "polyglot_notebook": {
     "kernelName": "csharp"
    },
    "vscode": {
     "languageId": "polyglot-notebook"
    }
   },
   "outputs": [
    {
     "data": {
      "text/html": [
       "<div><div></div><div></div><div></div></div>"
      ]
     },
     "metadata": {},
     "output_type": "display_data"
    },
    {
     "ename": "Error",
     "evalue": "C:\\Users\\18311\\.packagemanagement\\nuget\\Projects\\18288--f9634632-435e-4c41-90ca-1f1a15463f45\\Project.fsproj : error NU1102: 找不到版本为 (>= 1.0.1-alpha) 的包 ManifoldNET.MeshIO\r\nC:\\Users\\18311\\.packagemanagement\\nuget\\Projects\\18288--f9634632-435e-4c41-90ca-1f1a15463f45\\Project.fsproj : error NU1102:   - 在 nuget.org 中找到 1 个版本[ 最接近版本: 1.0.0-alpha ]\r\nC:\\Users\\18311\\.packagemanagement\\nuget\\Projects\\18288--f9634632-435e-4c41-90ca-1f1a15463f45\\Project.fsproj : error NU1102:   - 在 C:\\Program Files\\dotnet\\library-packs 中找到 0 个版本\r\nC:\\Users\\18311\\.packagemanagement\\nuget\\Projects\\18288--f9634632-435e-4c41-90ca-1f1a15463f45\\Project.fsproj : error NU1102:   - 在 C:\\Program Files\\dotnet\\sdk\\8.0.303\\FSharp\\library-packs 中找到 0 个版本",
     "output_type": "error",
     "traceback": [
      "C:\\Users\\18311\\.packagemanagement\\nuget\\Projects\\18288--f9634632-435e-4c41-90ca-1f1a15463f45\\Project.fsproj : error NU1102: 找不到版本为 (>= 1.0.1-alpha) 的包 ManifoldNET.MeshIO\r\n",
      "C:\\Users\\18311\\.packagemanagement\\nuget\\Projects\\18288--f9634632-435e-4c41-90ca-1f1a15463f45\\Project.fsproj : error NU1102:   - 在 nuget.org 中找到 1 个版本[ 最接近版本: 1.0.0-alpha ]\r\n",
      "C:\\Users\\18311\\.packagemanagement\\nuget\\Projects\\18288--f9634632-435e-4c41-90ca-1f1a15463f45\\Project.fsproj : error NU1102:   - 在 C:\\Program Files\\dotnet\\library-packs 中找到 0 个版本\r\n",
      "C:\\Users\\18311\\.packagemanagement\\nuget\\Projects\\18288--f9634632-435e-4c41-90ca-1f1a15463f45\\Project.fsproj : error NU1102:   - 在 C:\\Program Files\\dotnet\\sdk\\8.0.303\\FSharp\\library-packs 中找到 0 个版本"
     ]
    }
   ],
   "source": [
    "#r \"nuget: ManifoldNET.MeshIO, 1.0.1-alpha\""
   ]
  },
  {
   "cell_type": "markdown",
   "metadata": {},
   "source": [
    "Before we start, let's import the namespace.😊"
   ]
  },
  {
   "cell_type": "code",
   "execution_count": 3,
   "metadata": {
    "dotnet_interactive": {
     "language": "csharp"
    },
    "polyglot_notebook": {
     "kernelName": "csharp"
    },
    "vscode": {
     "languageId": "polyglot-notebook"
    }
   },
   "outputs": [
    {
     "ename": "Error",
     "evalue": "(1,7): error CS0246: 未能找到类型或命名空间名“ManifoldNET”(是否缺少 using 指令或程序集引用?)",
     "output_type": "error",
     "traceback": [
      "(1,7): error CS0246: 未能找到类型或命名空间名“ManifoldNET”(是否缺少 using 指令或程序集引用?)"
     ]
    }
   ],
   "source": [
    "using ManifoldNET;"
   ]
  },
  {
   "cell_type": "markdown",
   "metadata": {
    "vscode": {
     "languageId": "polyglot-notebook"
    }
   },
   "source": [
    "Now, let's start by creating a cube.🧊"
   ]
  },
  {
   "cell_type": "code",
   "execution_count": null,
   "metadata": {
    "dotnet_interactive": {
     "language": "csharp"
    },
    "polyglot_notebook": {
     "kernelName": "csharp"
    },
    "vscode": {
     "languageId": "polyglot-notebook"
    }
   },
   "outputs": [],
   "source": [
    "Manifold cube = Manifold.Cube(1, 1, 1, true);\n",
    "\n",
    "cube.Properties"
   ]
  },
  {
   "cell_type": "markdown",
   "metadata": {},
   "source": [
    "# Display\n",
    "\n",
    "Now you can see that the surface area of the cube is 6 📐 and the volume is 1📏, \n",
    "although this might not be intuitive. \n",
    "Next, let's display it in the notebook.🧊\n",
    "\n",
    "First, we need to introduce a NuGet package."
   ]
  },
  {
   "cell_type": "code",
   "execution_count": null,
   "metadata": {
    "dotnet_interactive": {
     "language": "csharp"
    },
    "polyglot_notebook": {
     "kernelName": "csharp"
    },
    "vscode": {
     "languageId": "polyglot-notebook"
    }
   },
   "outputs": [],
   "source": [
    "#r \"nuget: ManifoldNET.Notebooks, 1.0.1-alpha\""
   ]
  }
 ],
 "metadata": {
  "kernelspec": {
   "display_name": ".NET (C#)",
   "language": "C#",
   "name": ".net-csharp"
  },
  "language_info": {
   "name": "python"
  },
  "polyglot_notebook": {
   "kernelInfo": {
    "defaultKernelName": "csharp",
    "items": [
     {
      "aliases": [],
      "name": "csharp"
     }
    ]
   }
  }
 },
 "nbformat": 4,
 "nbformat_minor": 2
}
