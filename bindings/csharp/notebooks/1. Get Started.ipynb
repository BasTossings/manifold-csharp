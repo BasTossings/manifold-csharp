{
 "cells": [
  {
   "cell_type": "markdown",
   "metadata": {},
   "source": [
    "# Get Started 🚀\n",
    "\n",
    "> To get started, you need to reference the NuGet package"
   ]
  },
  {
   "cell_type": "code",
   "execution_count": 3,
   "metadata": {
    "dotnet_interactive": {
     "language": "csharp"
    },
    "polyglot_notebook": {
     "kernelName": "csharp"
    },
    "vscode": {
     "languageId": "polyglot-notebook"
    }
   },
   "outputs": [
    {
     "data": {
      "text/html": [
       "<div><div></div><div></div><div><strong>Installed Packages</strong><ul><li><span>manifoldnet.meshio, 1.0.1-alpha</span></li></ul></div></div>"
      ]
     },
     "metadata": {},
     "output_type": "display_data"
    }
   ],
   "source": [
    "#r \"nuget: ManifoldNET.MeshIO, 1.0.1-alpha\""
   ]
  },
  {
   "cell_type": "markdown",
   "metadata": {},
   "source": [
    "Before we start, let's import the namespace.😊"
   ]
  },
  {
   "cell_type": "code",
   "execution_count": 4,
   "metadata": {
    "vscode": {
     "languageId": "polyglot-notebook"
    }
   },
   "outputs": [
    {
     "data": {
      "text/html": [
       "<div><div></div><div></div><div><strong>Installed Packages</strong><ul><li><span>ManifoldNET.Notebooks, 1.0.1-alpha</span></li></ul></div></div>"
      ]
     },
     "metadata": {},
     "output_type": "display_data"
    }
   ],
   "source": [
    "#r \"nuget: ManifoldNET.Notebooks, 1.0.1-alpha\""
   ]
  },
  {
   "cell_type": "code",
   "execution_count": 3,
   "metadata": {
    "dotnet_interactive": {
     "language": "csharp"
    },
    "polyglot_notebook": {
     "kernelName": "csharp"
    },
    "vscode": {
     "languageId": "polyglot-notebook"
    }
   },
   "outputs": [],
   "source": [
    "using ManifoldNET;"
   ]
  },
  {
   "cell_type": "markdown",
   "metadata": {
    "vscode": {
     "languageId": "polyglot-notebook"
    }
   },
   "source": [
    "Now, let's start by creating a cube.🧊"
   ]
  },
  {
   "cell_type": "code",
   "execution_count": 4,
   "metadata": {
    "dotnet_interactive": {
     "language": "csharp"
    },
    "polyglot_notebook": {
     "kernelName": "csharp"
    },
    "vscode": {
     "languageId": "polyglot-notebook"
    }
   },
   "outputs": [
    {
     "data": {
      "text/html": [
       "<details open=\"open\" class=\"dni-treeview\"><summary><span class=\"dni-code-hint\"><code>{ SurfaceArea:6, volume: 1}</code></span></summary><div><table><thead><tr></tr></thead><tbody><tr><td>surface_area</td><td><div class=\"dni-plaintext\"><pre>6</pre></div></td></tr><tr><td>volume</td><td><div class=\"dni-plaintext\"><pre>1</pre></div></td></tr></tbody></table></div></details><style>\r\n",
       ".dni-code-hint {\r\n",
       "    font-style: italic;\r\n",
       "    overflow: hidden;\r\n",
       "    white-space: nowrap;\r\n",
       "}\r\n",
       ".dni-treeview {\r\n",
       "    white-space: nowrap;\r\n",
       "}\r\n",
       ".dni-treeview td {\r\n",
       "    vertical-align: top;\r\n",
       "    text-align: start;\r\n",
       "}\r\n",
       "details.dni-treeview {\r\n",
       "    padding-left: 1em;\r\n",
       "}\r\n",
       "table td {\r\n",
       "    text-align: start;\r\n",
       "}\r\n",
       "table tr { \r\n",
       "    vertical-align: top; \r\n",
       "    margin: 0em 0px;\r\n",
       "}\r\n",
       "table tr td pre \r\n",
       "{ \r\n",
       "    vertical-align: top !important; \r\n",
       "    margin: 0em 0px !important;\r\n",
       "} \r\n",
       "table th {\r\n",
       "    text-align: start;\r\n",
       "}\r\n",
       "</style>"
      ]
     },
     "metadata": {},
     "output_type": "display_data"
    }
   ],
   "source": [
    "Manifold cube = Manifold.Cube(1, 1, 1, true);\n",
    "\n",
    "cube.Properties"
   ]
  },
  {
   "cell_type": "markdown",
   "metadata": {},
   "source": [
    "# Display\n",
    "\n",
    "Now you can see that the surface area of the cube is 6 📐 and the volume is 1📏, \n",
    "although this might not be intuitive. \n",
    "Next, let's display it in the notebook.🧊"
   ]
  },
  {
   "cell_type": "code",
   "execution_count": 5,
   "metadata": {
    "dotnet_interactive": {
     "language": "csharp"
    },
    "polyglot_notebook": {
     "kernelName": "csharp"
    },
    "vscode": {
     "languageId": "polyglot-notebook"
    }
   },
   "outputs": [
    {
     "data": {
      "text/html": [
       "<details open=\"open\" class=\"dni-treeview\"><summary><span class=\"dni-code-hint\"><code>Manifold:{Triangles: 12, BoundingBox:Vector3:{x:1, y:1, z:1}, Volume:1, Genus:0}</code></span></summary><div><table><thead><tr></tr></thead><tbody><tr><td>MeshGL</td><td><details class=\"dni-treeview\"><summary><span class=\"dni-code-hint\"><code>ManifoldNET.MeshGL</code></span></summary><div><table><thead><tr></tr></thead><tbody><tr><td>PropertiesNumber</td><td><div class=\"dni-plaintext\"><pre>3</pre></div></td></tr><tr><td>VerticesNumber</td><td><div class=\"dni-plaintext\"><pre>8</pre></div></td></tr><tr><td>TriangleNumber</td><td><div class=\"dni-plaintext\"><pre>12</pre></div></td></tr><tr><td>VerticesPropertiesLength</td><td><div class=\"dni-plaintext\"><pre>24</pre></div></td></tr><tr><td>TriangleLength</td><td><div class=\"dni-plaintext\"><pre>36</pre></div></td></tr><tr><td>MergeLength</td><td><div class=\"dni-plaintext\"><pre>0</pre></div></td></tr><tr><td>RunIndexLength</td><td><div class=\"dni-plaintext\"><pre>2</pre></div></td></tr><tr><td>RunOriginalIdLength</td><td><div class=\"dni-plaintext\"><pre>1</pre></div></td></tr><tr><td>RunTransformLength</td><td><div class=\"dni-plaintext\"><pre>0</pre></div></td></tr><tr><td>FaceIdLength</td><td><div class=\"dni-plaintext\"><pre>12</pre></div></td></tr><tr><td>TangentLength</td><td><div class=\"dni-plaintext\"><pre>0</pre></div></td></tr><tr><td>VerticesProperties</td><td><div class=\"dni-plaintext\"><pre>[ -0.5, -0.5, -0.5, -0.5, -0.5, 0.5, -0.5, 0.5, -0.5, -0.5, 0.5, 0.5, 0.5, -0.5, -0.5, 0.5, -0.5, 0.5, 0.5, 0.5 ... (4 more) ]</pre></div></td></tr><tr><td>TriangleVertices</td><td><div class=\"dni-plaintext\"><pre>[ 1, 0, 4, 2, 4, 0, 1, 3, 0, 3, 1, 5, 3, 2, 0, 3, 7, 2, 5, 4 ... (16 more) ]</pre></div></td></tr></tbody></table></div></details></td></tr><tr><td>OriginalID</td><td><div class=\"dni-plaintext\"><pre>1</pre></div></td></tr><tr><td>Status</td><td><span>NoError</span></td></tr><tr><td>IsEmpty</td><td><div class=\"dni-plaintext\"><pre>False</pre></div></td></tr><tr><td>VerticesNumber</td><td><div class=\"dni-plaintext\"><pre>8</pre></div></td></tr><tr><td>EdgeNumber</td><td><div class=\"dni-plaintext\"><pre>18</pre></div></td></tr><tr><td>TriangleNumber</td><td><div class=\"dni-plaintext\"><pre>12</pre></div></td></tr><tr><td>Genus</td><td><div class=\"dni-plaintext\"><pre>0</pre></div></td></tr><tr><td>Properties</td><td><details class=\"dni-treeview\"><summary><span class=\"dni-code-hint\"><code>{ SurfaceArea:6, volume: 1}</code></span></summary><div><table><thead><tr></tr></thead><tbody><tr><td>surface_area</td><td><div class=\"dni-plaintext\"><pre>6</pre></div></td></tr><tr><td>volume</td><td><div class=\"dni-plaintext\"><pre>1</pre></div></td></tr></tbody></table></div></details></td></tr><tr><td>BoundingBox</td><td><details class=\"dni-treeview\"><summary><span class=\"dni-code-hint\"><code>BoundingBox:{Vector3:{x:-0.5, y:-0.5, z:-0.5}, Vector3:{x:0.5, y:0.5, z:0.5}}</code></span></summary><div><table><thead><tr></tr></thead><tbody><tr><td>Min</td><td><details class=\"dni-treeview\"><summary><span class=\"dni-code-hint\"><code>Vector3:{x:-0.5, y:-0.5, z:-0.5}</code></span></summary><div><table><thead><tr></tr></thead><tbody><tr><td>x</td><td><div class=\"dni-plaintext\"><pre>-0.5</pre></div></td></tr><tr><td>y</td><td><div class=\"dni-plaintext\"><pre>-0.5</pre></div></td></tr><tr><td>z</td><td><div class=\"dni-plaintext\"><pre>-0.5</pre></div></td></tr></tbody></table></div></details></td></tr><tr><td>Max</td><td><details class=\"dni-treeview\"><summary><span class=\"dni-code-hint\"><code>Vector3:{x:0.5, y:0.5, z:0.5}</code></span></summary><div><table><thead><tr></tr></thead><tbody><tr><td>x</td><td><div class=\"dni-plaintext\"><pre>0.5</pre></div></td></tr><tr><td>y</td><td><div class=\"dni-plaintext\"><pre>0.5</pre></div></td></tr><tr><td>z</td><td><div class=\"dni-plaintext\"><pre>0.5</pre></div></td></tr></tbody></table></div></details></td></tr><tr><td>Size</td><td><details class=\"dni-treeview\"><summary><span class=\"dni-code-hint\"><code>Vector3:{x:1, y:1, z:1}</code></span></summary><div><table><thead><tr></tr></thead><tbody><tr><td>x</td><td><div class=\"dni-plaintext\"><pre>1</pre></div></td></tr><tr><td>y</td><td><div class=\"dni-plaintext\"><pre>1</pre></div></td></tr><tr><td>z</td><td><div class=\"dni-plaintext\"><pre>1</pre></div></td></tr></tbody></table></div></details></td></tr></tbody></table></div></details></td></tr><tr><td>Precision</td><td><div class=\"dni-plaintext\"><pre>5E-06</pre></div></td></tr></tbody></table></div></details><style>\r\n",
       ".dni-code-hint {\r\n",
       "    font-style: italic;\r\n",
       "    overflow: hidden;\r\n",
       "    white-space: nowrap;\r\n",
       "}\r\n",
       ".dni-treeview {\r\n",
       "    white-space: nowrap;\r\n",
       "}\r\n",
       ".dni-treeview td {\r\n",
       "    vertical-align: top;\r\n",
       "    text-align: start;\r\n",
       "}\r\n",
       "details.dni-treeview {\r\n",
       "    padding-left: 1em;\r\n",
       "}\r\n",
       "table td {\r\n",
       "    text-align: start;\r\n",
       "}\r\n",
       "table tr { \r\n",
       "    vertical-align: top; \r\n",
       "    margin: 0em 0px;\r\n",
       "}\r\n",
       "table tr td pre \r\n",
       "{ \r\n",
       "    vertical-align: top !important; \r\n",
       "    margin: 0em 0px !important;\r\n",
       "} \r\n",
       "table th {\r\n",
       "    text-align: start;\r\n",
       "}\r\n",
       "</style>"
      ]
     },
     "metadata": {},
     "output_type": "display_data"
    }
   ],
   "source": [
    "cube.MeshGL.ExportMeshGL(\"cube.glb\");\n",
    "cube"
   ]
  },
  {
   "cell_type": "code",
   "execution_count": 5,
   "metadata": {
    "dotnet_interactive": {
     "language": "csharp"
    },
    "polyglot_notebook": {
     "kernelName": "csharp"
    },
    "vscode": {
     "languageId": "polyglot-notebook"
    }
   },
   "outputs": [],
   "source": []
  },
  {
   "cell_type": "code",
   "execution_count": 7,
   "metadata": {
    "vscode": {
     "languageId": "polyglot-notebook"
    }
   },
   "outputs": [
    {
     "data": {
      "text/html": [
       "<!DOCTYPE html>\r\n",
       "<html lang=\"en\">\r\n",
       "<head>\r\n",
       "    <meta charset=\"UTF-8\">\r\n",
       "    <meta name=\"viewport\" content=\"width=device-width, initial-scale=1.0\">\r\n",
       "    <script type=\"module\" src=\"https://ajax.googleapis.com/ajax/libs/model-viewer/3.5.0/model-viewer.min.js\"></script>\r\n",
       "    <script src=\"https://cdn.jsdelivr.net/npm/js-base64@3.6.1/base64.min.js\"></script>\r\n",
       "    <style>\r\n",
       "        html, body {\r\n",
       "            height: 100%;\r\n",
       "            margin: 0;\r\n",
       "            padding: 0;\r\n",
       "        }\r\n",
       "\r\n",
       "        model-viewer {\r\n",
       "            width: 100%;\r\n",
       "            height: 500px;\r\n",
       "        }\r\n",
       "    </style>\r\n",
       "</head>\r\n",
       "<body>\r\n",
       "    <model-viewer id=\"modelViewer\"\r\n",
       "        autoplay\r\n",
       "        alt=\"3D Model\"\r\n",
       "        shadow-intensity=\"1\" camera-controls\r\n",
       "        touch-action=\"pan-y\" src=\"data:image/jpeg;base64, Z2xURgIAAAAkBAAAGAMAAEpTT057ImFzc2V0Ijp7InZlcnNpb24iOiIyLjAiLCJnZW5lcmF0b3IiOiJPcGVuIEFzc2V0IEltcG9ydCBMaWJyYXJ5IChhc3NpbXAgdjUuMy4wKSJ9LCJleHRlbnNpb25zVXNlZCI6WyJLSFJfbWF0ZXJpYWxzX3ZvbHVtZSIsIkZCX25nb25fZW5jb2RpbmciXSwiYWNjZXNzb3JzIjpbeyJidWZmZXJWaWV3IjowLCJieXRlT2Zmc2V0IjowLCJjb21wb25lbnRUeXBlIjo1MTI2LCJjb3VudCI6OCwidHlwZSI6IlZFQzMiLCJtYXgiOlswLjUsMC41LDAuNV0sIm1pbiI6Wy0wLjUsLTAuNSwtMC41XX0seyJidWZmZXJWaWV3IjoxLCJieXRlT2Zmc2V0IjowLCJjb21wb25lbnRUeXBlIjo1MTI1LCJjb3VudCI6MzYsInR5cGUiOiJTQ0FMQVIiLCJtYXgiOls3XSwibWluIjpbMF19XSwiYnVmZmVycyI6W3siYnl0ZUxlbmd0aCI6MjQwfV0sImJ1ZmZlclZpZXdzIjpbeyJidWZmZXIiOjAsImJ5dGVPZmZzZXQiOjAsImJ5dGVMZW5ndGgiOjk2LCJ0YXJnZXQiOjM0OTYyfSx7ImJ1ZmZlciI6MCwiYnl0ZU9mZnNldCI6OTYsImJ5dGVMZW5ndGgiOjE0NCwidGFyZ2V0IjozNDk2M31dLCJtYXRlcmlhbHMiOlt7Im5hbWUiOiJtYXRlcmlhbCIsInBick1ldGFsbGljUm91Z2huZXNzIjp7InJvdWdobmVzc0ZhY3RvciI6MC4yMDAwMDAwMDI5ODAyMzIyNH19XSwibWVzaGVzIjpbeyJwcmltaXRpdmVzIjpbeyJtb2RlIjo0LCJtYXRlcmlhbCI6MCwiaW5kaWNlcyI6MSwiYXR0cmlidXRlcyI6eyJQT1NJVElPTiI6MH19XX1dLCJub2RlcyI6W3sibWVzaCI6MH1dLCJzY2VuZXMiOlt7Im5vZGVzIjpbMF19XSwic2NlbmUiOjB9ICDwAAAAQklOAAAAAL8AAAC/AAAAvwAAAL8AAAA/AAAAvwAAAD8AAAC/AAAAvwAAAD8AAAA/AAAAvwAAAL8AAAC/AAAAPwAAAL8AAAA/AAAAPwAAAD8AAAC/AAAAPwAAAD8AAAA/AAAAPwEAAAAAAAAABAAAAAIAAAAEAAAAAAAAAAEAAAADAAAAAAAAAAMAAAABAAAABQAAAAMAAAACAAAAAAAAAAMAAAAHAAAAAgAAAAUAAAAEAAAABgAAAAUAAAABAAAABAAAAAYAAAAEAAAAAgAAAAcAAAAGAAAAAgAAAAcAAAADAAAABQAAAAcAAAAFAAAABgAAAA==\"></model-viewer>\r\n",
       "</body>\r\n",
       "</html>"
      ]
     },
     "metadata": {},
     "output_type": "display_data"
    }
   ],
   "source": [
    "string html = GenerateGlbHtml(\"cube.glb\").ToString();\n",
    "html.DisplayAs(\"text/html\");"
   ]
  }
 ],
 "metadata": {
  "kernelspec": {
   "display_name": ".NET (C#)",
   "language": "C#",
   "name": ".net-csharp"
  },
  "language_info": {
   "name": "python"
  },
  "polyglot_notebook": {
   "kernelInfo": {
    "defaultKernelName": "csharp",
    "items": [
     {
      "aliases": [],
      "name": "csharp"
     }
    ]
   }
  }
 },
 "nbformat": 4,
 "nbformat_minor": 2
}
