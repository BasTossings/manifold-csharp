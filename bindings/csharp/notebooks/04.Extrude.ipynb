{
 "cells": [
  {
   "cell_type": "code",
   "execution_count": 1,
   "metadata": {
    "dotnet_interactive": {
     "language": "csharp"
    },
    "polyglot_notebook": {
     "kernelName": "csharp"
    },
    "vscode": {
     "languageId": "polyglot-notebook"
    }
   },
   "outputs": [
    {
     "data": {
      "text/html": [
       "<div><div></div><div></div><div><strong>Installed Packages</strong><ul><li><span>ManifoldNET.Notebooks, 1.0.4-alpha</span></li></ul></div></div>"
      ]
     },
     "metadata": {},
     "output_type": "display_data"
    },
    {
     "data": {
      "text/plain": [
       "Loading extension script from `C:\\Users\\18311\\.nuget\\packages\\manifoldnet.notebooks\\1.0.4-alpha\\interactive-extensions\\dotnet\\extension.dib`"
      ]
     },
     "metadata": {},
     "output_type": "display_data"
    },
    {
     "data": {
      "text/html": [
       "<div><code>ManifoldNET.Notebooks</code> is loaded. It adds visualizations for <code>ManifoldNET.Manifold</code>. Try it by running: <code>Manifold.Cube(1, 1, 1, true)</code> or using magic code to disply glb file:<code>#!glb -f c:/path/to/name.glb</code></div>"
      ]
     },
     "metadata": {},
     "output_type": "display_data"
    }
   ],
   "source": [
    "#r \"nuget: ManifoldNET.Notebooks, *-*\""
   ]
  },
  {
   "cell_type": "code",
   "execution_count": 2,
   "metadata": {
    "dotnet_interactive": {
     "language": "csharp"
    },
    "polyglot_notebook": {
     "kernelName": "csharp"
    },
    "vscode": {
     "languageId": "polyglot-notebook"
    }
   },
   "outputs": [],
   "source": [
    "using ManifoldNET;\n",
    "using static ManifoldNET.Manifold;"
   ]
  },
  {
   "cell_type": "code",
   "execution_count": 8,
   "metadata": {
    "dotnet_interactive": {
     "language": "csharp"
    },
    "polyglot_notebook": {
     "kernelName": "csharp"
    },
    "vscode": {
     "languageId": "polyglot-notebook"
    }
   },
   "outputs": [
    {
     "data": {
      "text/html": [
       "<!DOCTYPE html>\r\n",
       "<html lang=\"en\">\r\n",
       "<head>\r\n",
       "    <meta charset=\"UTF-8\">\r\n",
       "    <meta name=\"viewport\" content=\"width=device-width, initial-scale=1.0\">\r\n",
       "    <script type=\"module\" src=\"https://ajax.googleapis.com/ajax/libs/model-viewer/3.5.0/model-viewer.min.js\"></script>\r\n",
       "    <script src=\"https://cdn.jsdelivr.net/npm/js-base64@3.6.1/base64.min.js\"></script>\r\n",
       "    <style>\r\n",
       "        html, body {\r\n",
       "            height: 100%;\r\n",
       "            margin: 0;\r\n",
       "            padding: 0;\r\n",
       "        }\r\n",
       "\r\n",
       "        model-viewer {\r\n",
       "            width: 100%;\r\n",
       "            height: 500px;\r\n",
       "        }\r\n",
       "    </style>\r\n",
       "</head>\r\n",
       "<body>\r\n",
       "    <model-viewer id=\"modelViewer\"\r\n",
       "        autoplay\r\n",
       "        alt=\"3D Model\"\r\n",
       "        shadow-intensity=\"1\" camera-controls\r\n",
       "        touch-action=\"pan-y\" src=\"data:image/jpeg;base64, Z2xURgIAAABABAAANAMAAEpTT057ImFzc2V0Ijp7InZlcnNpb24iOiIyLjAiLCJnZW5lcmF0b3IiOiJPcGVuIEFzc2V0IEltcG9ydCBMaWJyYXJ5IChhc3NpbXAgdjUuNC4wKSJ9LCJleHRlbnNpb25zVXNlZCI6WyJLSFJfbWF0ZXJpYWxzX3ZvbHVtZSIsIkZCX25nb25fZW5jb2RpbmciXSwiYWNjZXNzb3JzIjpbeyJidWZmZXJWaWV3IjowLCJieXRlT2Zmc2V0IjowLCJjb21wb25lbnRUeXBlIjo1MTI2LCJjb3VudCI6OCwidHlwZSI6IlZFQzMiLCJtYXgiOlswLjUsMS4wLDAuNTE3MTQ1MTU2ODYwMzUxNl0sIm1pbiI6Wy0wLjUsMC4wLC0wLjUxNzE0NTE1Njg2MDM1MTZdfSx7ImJ1ZmZlclZpZXciOjEsImJ5dGVPZmZzZXQiOjAsImNvbXBvbmVudFR5cGUiOjUxMjUsImNvdW50IjozNiwidHlwZSI6IlNDQUxBUiIsIm1heCI6WzddLCJtaW4iOlswXX1dLCJidWZmZXJzIjpbeyJieXRlTGVuZ3RoIjoyNDB9XSwiYnVmZmVyVmlld3MiOlt7ImJ1ZmZlciI6MCwiYnl0ZU9mZnNldCI6MCwiYnl0ZUxlbmd0aCI6OTYsInRhcmdldCI6MzQ5NjJ9LHsiYnVmZmVyIjowLCJieXRlT2Zmc2V0Ijo5NiwiYnl0ZUxlbmd0aCI6MTQ0LCJ0YXJnZXQiOjM0OTYzfV0sIm1hdGVyaWFscyI6W3sibmFtZSI6Im1hdGVyaWFsIiwicGJyTWV0YWxsaWNSb3VnaG5lc3MiOnsicm91Z2huZXNzRmFjdG9yIjowLjIwMDAwMDAwMjk4MDIzMjI0fX1dLCJtZXNoZXMiOlt7InByaW1pdGl2ZXMiOlt7Im1vZGUiOjQsIm1hdGVyaWFsIjowLCJpbmRpY2VzIjoxLCJhdHRyaWJ1dGVzIjp7IlBPU0lUSU9OIjowfX1dfV0sIm5vZGVzIjpbeyJtZXNoIjowfV0sInNjZW5lcyI6W3sibm9kZXMiOlswXX1dLCJzY2VuZSI6MH0g8AAAAEJJTgAAAAC/AAAAAAAAAL8AAAA/AAAAAAAAAL8AAAAAAACAP6BjBL8AAACAAACAP+jo9r4AAAC/AAAAAAAAAD8AAAA/AAAAAAAAAD8AAAAAAACAP+jo9j4AAAAAAACAP6BjBD8DAAAAAAAAAAQAAAABAAAABAAAAAAAAAADAAAAAgAAAAAAAAACAAAAAQAAAAAAAAACAAAABgAAAAEAAAACAAAAAwAAAAcAAAAHAAAAAwAAAAQAAAAFAAAABAAAAAEAAAAGAAAABQAAAAEAAAAHAAAABAAAAAUAAAAGAAAAAgAAAAcAAAAGAAAABwAAAAUAAAA=\"></model-viewer>\r\n",
       "</body>\r\n",
       "</html>"
      ]
     },
     "metadata": {},
     "output_type": "display_data"
    }
   ],
   "source": [
    "CrossSection section = CrossSection.Square(1.0f, 1.0f, true);\n",
    "\n",
    "Manifold.Extrude(section.Polygons(), 1f, 0, 0f, new Vector2(1, 1))"
   ]
  }
 ],
 "metadata": {
  "kernelspec": {
   "display_name": ".NET (C#)",
   "language": "C#",
   "name": ".net-csharp"
  },
  "language_info": {
   "name": "python"
  },
  "polyglot_notebook": {
   "kernelInfo": {
    "defaultKernelName": "csharp",
    "items": [
     {
      "aliases": [],
      "name": "csharp"
     }
    ]
   }
  }
 },
 "nbformat": 4,
 "nbformat_minor": 2
}
