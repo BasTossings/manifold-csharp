{
 "cells": [
  {
   "cell_type": "code",
   "execution_count": 1,
   "metadata": {
    "dotnet_interactive": {
     "language": "pwsh"
    },
    "polyglot_notebook": {
     "kernelName": "pwsh"
    },
    "vscode": {
     "languageId": "polyglot-notebook"
    }
   },
   "outputs": [
    {
     "name": "stdout",
     "output_type": "stream",
     "text": [
      "  Determining projects to restore...\n",
      "  已还原 C:\\Users\\18311\\source\\repos\\manifold-csharp\\bindings\\csharp\\ManifoldNET\\ManifoldNET.csproj (用时 181 毫秒)。\n",
      "  已还原 C:\\Users\\18311\\source\\repos\\manifold-csharp\\bindings\\csharp\\ManifoldNET.Notebooks\\ManifoldNET.Notebooks.csproj (用时 204 毫秒)。\n",
      "  ManifoldNET -> C:\\Users\\18311\\source\\repos\\manifold-csharp\\bindings\\csharp\\ManifoldNET\\bin\\Release_MeshExport\\net8.0\\ManifoldNET.dll\n",
      "  ManifoldNET.Notebooks -> C:\\Users\\18311\\source\\repos\\manifold-csharp\\bindings\\csharp\\ManifoldNET.Notebooks\\bin\\Release_MeshExport\\net8.0\\ManifoldNET.Notebooks.dll\n",
      "\n",
      "已成功生成。\n",
      "    0 个警告\n",
      "    0 个错误\n",
      "\n",
      "已用时间 00:00:01.54\n",
      "  Determining projects to restore...\n",
      "  已还原 C:\\Users\\18311\\source\\repos\\manifold-csharp\\bindings\\csharp\\ManifoldNET\\ManifoldNET.csproj (用时 180 毫秒)。\n",
      "  已还原 C:\\Users\\18311\\source\\repos\\manifold-csharp\\bindings\\csharp\\ManifoldNET.Notebooks\\ManifoldNET.Notebooks.csproj (用时 205 毫秒)。\n",
      "\n",
      "    Directory: C:\\Users\\18311\\source\\repos\\manifold-csharp\\bindings\\csharp\\ManifoldNET.Notebooks\\bi\n",
      "n\\Debug\n",
      "\n",
      "\u001b[32;1mMode   \u001b[0m\u001b[32;1m              LastWriteTime\u001b[0m\u001b[32;1m         Length\u001b[0m\u001b[32;1m Name\u001b[0m\n",
      "\u001b[32;1m----   \u001b[0m \u001b[32;1m             -------------\u001b[0m \u001b[32;1m        ------\u001b[0m \u001b[32;1m----\u001b[0m\n",
      "-a---           2024/8/15    10:35           6046 \u001b[31;1mManifoldNET.Notebooks.1.0.0-alpha.nupkg\u001b[0m\n",
      "\n",
      "    Directory: C:\\Users\\18311\\source\\repos\\manifold-csharp\\bindings\\csharp\\ManifoldNET.Notebooks\\bi\n",
      "n\\Debug_MeshExport\n",
      "\n",
      "\u001b[32;1mMode   \u001b[0m\u001b[32;1m              LastWriteTime\u001b[0m\u001b[32;1m         Length\u001b[0m\u001b[32;1m Name\u001b[0m\n",
      "\u001b[32;1m----   \u001b[0m \u001b[32;1m             -------------\u001b[0m \u001b[32;1m        ------\u001b[0m \u001b[32;1m----\u001b[0m\n",
      "-a---           2024/8/15    10:52           6394 \u001b[31;1mManifoldNET.Notebooks.1.0.0-alpha.nupkg\u001b[0m\n",
      "\n",
      "    Directory: C:\\Users\\18311\\source\\repos\\manifold-csharp\\bindings\\csharp\\ManifoldNET.Notebooks\\bi\n",
      "n\\Release_MeshExport\n",
      "\n",
      "\u001b[32;1mMode   \u001b[0m\u001b[32;1m              LastWriteTime\u001b[0m\u001b[32;1m         Length\u001b[0m\u001b[32;1m Name\u001b[0m\n",
      "\u001b[32;1m----   \u001b[0m \u001b[32;1m             -------------\u001b[0m \u001b[32;1m        ------\u001b[0m \u001b[32;1m----\u001b[0m\n",
      "-a---           2024/8/15    11:01           6439 \u001b[31;1mManifoldNET.Notebooks.1.0.0-alpha.nupkg\u001b[0m\n",
      "-a---           2024/8/15    11:01           6427 \u001b[31;1mManifoldNET.Notebooks.1.0.0.nupkg\u001b[0m\n",
      "\n"
     ]
    }
   ],
   "source": [
    "# 1. Build the project\n",
    "dotnet build ManifoldNET.Notebooks -c Release_MeshExport\n",
    "\n",
    "# Clear any older versions of this extension package from your NuGet cache\n",
    "rm ~/.nuget/packages/ManifoldNET.Notebooks -Force -Recurse -ErrorAction Ignore\n",
    "\n",
    "# Pack up the NuGet package. \n",
    "dotnet pack ManifoldNET.Notebooks /p:PackageVersion=1.0.0 -c Release_MeshExport\n",
    "\n",
    "# 3. Check that the package is there\n",
    "Get-ChildItem -Recurse ManifoldNET.Notebooks*.nupkg"
   ]
  },
  {
   "cell_type": "code",
   "execution_count": 2,
   "metadata": {
    "dotnet_interactive": {
     "language": "csharp"
    },
    "polyglot_notebook": {
     "kernelName": "csharp"
    },
    "vscode": {
     "languageId": "polyglot-notebook"
    }
   },
   "outputs": [
    {
     "data": {
      "text/plain": [
       "✅ The package is there!"
      ]
     },
     "metadata": {},
     "output_type": "display_data"
    }
   ],
   "source": [
    "using System.IO;\n",
    "\n",
    "// Create an absolute path since #i doesn't like \n",
    "var debugOutputFolder = new DirectoryInfo(@\".\\ManifoldNET.Notebooks\\bin\\Release_MeshExport\\\").FullName;\n",
    "\n",
    "var file = Directory.GetFiles(debugOutputFolder, \"ManifoldNET.Notebooks*.nupkg\").FirstOrDefault();\n",
    "if (File.Exists(file))\n",
    "{\n",
    "    \"✅ The package is there!\".Display();\n",
    "} \n",
    "else\n",
    "{\n",
    "    \"❌ Something must have gone wrong with the build. The package isn't there.\".Display();\n",
    "}\n",
    "\n",
    "var nugetSource = $\"nuget:{debugOutputFolder}\";"
   ]
  },
  {
   "cell_type": "code",
   "execution_count": 3,
   "metadata": {
    "dotnet_interactive": {
     "language": "csharp"
    },
    "polyglot_notebook": {
     "kernelName": "csharp"
    },
    "vscode": {
     "languageId": "polyglot-notebook"
    }
   },
   "outputs": [
    {
     "data": {
      "text/html": [
       "<div><div><strong>Restore sources</strong><ul><li><span>c:\\Users\\18311\\source\\repos\\manifold-csharp\\bindings\\csharp\\ManifoldNET.Notebooks\\bin\\Debug\\</span></li></ul></div><div></div><div></div></div>"
      ]
     },
     "metadata": {},
     "output_type": "display_data"
    }
   ],
   "source": [
    "#i @csharp:nugetSource"
   ]
  },
  {
   "cell_type": "code",
   "execution_count": 4,
   "metadata": {
    "dotnet_interactive": {
     "language": "csharp"
    },
    "polyglot_notebook": {
     "kernelName": "csharp"
    },
    "vscode": {
     "languageId": "polyglot-notebook"
    }
   },
   "outputs": [
    {
     "data": {
      "text/html": [
       "<div><div><strong>Restore sources</strong><ul><li><span>c:\\Users\\18311\\source\\repos\\manifold-csharp\\bindings\\csharp\\ManifoldNET.Notebooks\\bin\\Debug\\</span></li></ul></div><div></div><div><strong>Installed Packages</strong><ul><li><span>ManifoldNET.Notebooks, 1.0.0-alpha</span></li></ul></div></div>"
      ]
     },
     "metadata": {},
     "output_type": "display_data"
    },
    {
     "data": {
      "text/plain": [
       "Loading extension script from `C:\\Users\\18311\\.nuget\\packages\\manifoldnet.notebooks\\1.0.0-alpha\\interactive-extensions\\dotnet\\extension.dib`"
      ]
     },
     "metadata": {},
     "output_type": "display_data"
    },
    {
     "ename": "Error",
     "evalue": "(1,1): error CS0103: 当前上下文中不存在名称“ClockExtension”",
     "output_type": "error",
     "traceback": [
      "(1,1): error CS0103: 当前上下文中不存在名称“ClockExtension”"
     ]
    }
   ],
   "source": [
    "#r \"nuget:ManifoldNET.Notebooks, 1.0.0-alpha\""
   ]
  },
  {
   "cell_type": "code",
   "execution_count": 48,
   "metadata": {
    "dotnet_interactive": {
     "language": "csharp"
    },
    "polyglot_notebook": {
     "kernelName": "csharp"
    },
    "vscode": {
     "languageId": "polyglot-notebook"
    }
   },
   "outputs": [],
   "source": [
    "using ManifoldNET;"
   ]
  },
  {
   "cell_type": "code",
   "execution_count": 49,
   "metadata": {
    "dotnet_interactive": {
     "language": "csharp"
    },
    "polyglot_notebook": {
     "kernelName": "csharp"
    },
    "vscode": {
     "languageId": "polyglot-notebook"
    }
   },
   "outputs": [
    {
     "data": {
      "text/html": [
       "<details open=\"open\" class=\"dni-treeview\"><summary><span class=\"dni-code-hint\"><code>Manifold:{Triangles: 12, BoundingBox:Vector3:{x:1, y:1, z:1}, Volume:1, Genus:0}</code></span></summary><div><table><thead><tr></tr></thead><tbody><tr><td>MeshGL</td><td><details class=\"dni-treeview\"><summary><span class=\"dni-code-hint\"><code>ManifoldNET.MeshGL</code></span></summary><div><table><thead><tr></tr></thead><tbody><tr><td>PropertiesNumber</td><td><div class=\"dni-plaintext\"><pre>3</pre></div></td></tr><tr><td>VerticesNumber</td><td><div class=\"dni-plaintext\"><pre>8</pre></div></td></tr><tr><td>TriangleNumber</td><td><div class=\"dni-plaintext\"><pre>12</pre></div></td></tr><tr><td>VerticesPropertiesLength</td><td><div class=\"dni-plaintext\"><pre>24</pre></div></td></tr><tr><td>TriangleLength</td><td><div class=\"dni-plaintext\"><pre>36</pre></div></td></tr><tr><td>MergeLength</td><td><div class=\"dni-plaintext\"><pre>0</pre></div></td></tr><tr><td>RunIndexLength</td><td><div class=\"dni-plaintext\"><pre>2</pre></div></td></tr><tr><td>RunOriginalIdLength</td><td><div class=\"dni-plaintext\"><pre>1</pre></div></td></tr><tr><td>RunTransformLength</td><td><div class=\"dni-plaintext\"><pre>0</pre></div></td></tr><tr><td>FaceIdLength</td><td><div class=\"dni-plaintext\"><pre>12</pre></div></td></tr><tr><td>TangentLength</td><td><div class=\"dni-plaintext\"><pre>0</pre></div></td></tr><tr><td>VerticesProperties</td><td><div class=\"dni-plaintext\"><pre>[ 0, 0, 0, 0, 0, 1, 0, 1, 0, 0, 1, 1, 1, 0, 0, 1, 0, 1, 1, 1 ... (4 more) ]</pre></div></td></tr><tr><td>TriangleVertices</td><td><div class=\"dni-plaintext\"><pre>[ 1, 0, 4, 2, 4, 0, 1, 3, 0, 3, 1, 5, 3, 2, 0, 3, 7, 2, 5, 4 ... (16 more) ]</pre></div></td></tr></tbody></table></div></details></td></tr><tr><td>OriginalID</td><td><div class=\"dni-plaintext\"><pre>3</pre></div></td></tr><tr><td>Status</td><td><span>NoError</span></td></tr><tr><td>IsEmpty</td><td><div class=\"dni-plaintext\"><pre>False</pre></div></td></tr><tr><td>VerticesNumber</td><td><div class=\"dni-plaintext\"><pre>8</pre></div></td></tr><tr><td>EdgeNumber</td><td><div class=\"dni-plaintext\"><pre>18</pre></div></td></tr><tr><td>TriangleNumber</td><td><div class=\"dni-plaintext\"><pre>12</pre></div></td></tr><tr><td>Genus</td><td><div class=\"dni-plaintext\"><pre>0</pre></div></td></tr><tr><td>Properties</td><td><details class=\"dni-treeview\"><summary><span class=\"dni-code-hint\"><code>{ SurfaceArea:6, volume: 1}</code></span></summary><div><table><thead><tr></tr></thead><tbody><tr><td>surface_area</td><td><div class=\"dni-plaintext\"><pre>6</pre></div></td></tr><tr><td>volume</td><td><div class=\"dni-plaintext\"><pre>1</pre></div></td></tr></tbody></table></div></details></td></tr><tr><td>BoundingBox</td><td><details class=\"dni-treeview\"><summary><span class=\"dni-code-hint\"><code>BoundingBox:{Vector3:{x:0, y:0, z:0}, Vector3:{x:1, y:1, z:1}}</code></span></summary><div><table><thead><tr></tr></thead><tbody><tr><td>Min</td><td><details class=\"dni-treeview\"><summary><span class=\"dni-code-hint\"><code>Vector3:{x:0, y:0, z:0}</code></span></summary><div><table><thead><tr></tr></thead><tbody><tr><td>x</td><td><div class=\"dni-plaintext\"><pre>0</pre></div></td></tr><tr><td>y</td><td><div class=\"dni-plaintext\"><pre>0</pre></div></td></tr><tr><td>z</td><td><div class=\"dni-plaintext\"><pre>0</pre></div></td></tr></tbody></table></div></details></td></tr><tr><td>Max</td><td><details class=\"dni-treeview\"><summary><span class=\"dni-code-hint\"><code>Vector3:{x:1, y:1, z:1}</code></span></summary><div><table><thead><tr></tr></thead><tbody><tr><td>x</td><td><div class=\"dni-plaintext\"><pre>1</pre></div></td></tr><tr><td>y</td><td><div class=\"dni-plaintext\"><pre>1</pre></div></td></tr><tr><td>z</td><td><div class=\"dni-plaintext\"><pre>1</pre></div></td></tr></tbody></table></div></details></td></tr><tr><td>Size</td><td><details class=\"dni-treeview\"><summary><span class=\"dni-code-hint\"><code>Vector3:{x:1, y:1, z:1}</code></span></summary><div><table><thead><tr></tr></thead><tbody><tr><td>x</td><td><div class=\"dni-plaintext\"><pre>1</pre></div></td></tr><tr><td>y</td><td><div class=\"dni-plaintext\"><pre>1</pre></div></td></tr><tr><td>z</td><td><div class=\"dni-plaintext\"><pre>1</pre></div></td></tr></tbody></table></div></details></td></tr></tbody></table></div></details></td></tr><tr><td>Precision</td><td><div class=\"dni-plaintext\"><pre>1E-05</pre></div></td></tr></tbody></table></div></details><style>\r\n",
       ".dni-code-hint {\r\n",
       "    font-style: italic;\r\n",
       "    overflow: hidden;\r\n",
       "    white-space: nowrap;\r\n",
       "}\r\n",
       ".dni-treeview {\r\n",
       "    white-space: nowrap;\r\n",
       "}\r\n",
       ".dni-treeview td {\r\n",
       "    vertical-align: top;\r\n",
       "    text-align: start;\r\n",
       "}\r\n",
       "details.dni-treeview {\r\n",
       "    padding-left: 1em;\r\n",
       "}\r\n",
       "table td {\r\n",
       "    text-align: start;\r\n",
       "}\r\n",
       "table tr { \r\n",
       "    vertical-align: top; \r\n",
       "    margin: 0em 0px;\r\n",
       "}\r\n",
       "table tr td pre \r\n",
       "{ \r\n",
       "    vertical-align: top !important; \r\n",
       "    margin: 0em 0px !important;\r\n",
       "} \r\n",
       "table th {\r\n",
       "    text-align: start;\r\n",
       "}\r\n",
       "</style>"
      ]
     },
     "metadata": {},
     "output_type": "display_data"
    }
   ],
   "source": [
    "var cube = Manifold.Cube(1,1,1);\n",
    "cube"
   ]
  }
 ],
 "metadata": {
  "kernelspec": {
   "display_name": ".NET (C#)",
   "language": "C#",
   "name": ".net-csharp"
  },
  "language_info": {
   "name": "python"
  },
  "polyglot_notebook": {
   "kernelInfo": {
    "defaultKernelName": "csharp",
    "items": [
     {
      "aliases": [],
      "name": "csharp"
     }
    ]
   }
  }
 },
 "nbformat": 4,
 "nbformat_minor": 2
}
