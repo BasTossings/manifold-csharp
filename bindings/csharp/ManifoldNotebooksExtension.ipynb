{
 "cells": [
  {
   "cell_type": "code",
   "execution_count": 2,
   "metadata": {
    "dotnet_interactive": {
     "language": "pwsh"
    },
    "polyglot_notebook": {
     "kernelName": "pwsh"
    },
    "vscode": {
     "languageId": "polyglot-notebook"
    }
   },
   "outputs": [
    {
     "name": "stdout",
     "output_type": "stream",
     "text": [
      "  Determining projects to restore...\n",
      "  所有项目均是最新的，无法还原。\n",
      "  Clear directory: C:\\Users\\18311\\source\\repos\\manifold-csharp\\bindings\\csharp\\ManifoldNET\\runtimes\\win-x64\\native\n",
      "  \n",
      "  -------------------------------------------------------------------------------\n",
      "     ROBOCOPY     ::     Windows 的可靠文件复制                              \n",
      "  -------------------------------------------------------------------------------\n",
      "  \n",
      "    开始时间: 2024年8月15日 10:28:24\n",
      "          源: C:\\Users\\18311\\source\\repos\\manifold-csharp\\bindings\\csharp\\ManifoldNET\\runtimes\\win-x64\\binary\\Debug\\\n",
      "        目标: C:\\Users\\18311\\source\\repos\\manifold-csharp\\bindings\\csharp\\ManifoldNET\\runtimes\\win-x64\\native\\\n",
      "  \n",
      "        文件: *.*\n",
      "  \t    \n",
      "        选项: *.* /NDL /NFL /S /E /DCOPY:DA /COPY:DAT /PURGE /MIR /R:0 /W:0 \n",
      "  \n",
      "  ------------------------------------------------------------------------------\n",
      "  \n",
      "  \n",
      "  ------------------------------------------------------------------------------\n",
      "  \n",
      "                    总数        复制        跳过       不匹配        失败        其他\n",
      "         目录:         1         0         1         0         0         0\n",
      "         文件:         2         2         0         0         0         0\n",
      "         字节:   18.21 m   18.21 m         0         0         0         0\n",
      "         时间:   0:00:00   0:00:00                       0:00:00   0:00:00\n",
      "  \n",
      "  \n",
      "         速度:           444,201,674 字节/秒。\n",
      "         速度:            25,417.424 MB/分钟。\n",
      "     已结束: 2024年8月15日 10:28:24\n",
      "  \n",
      "  ManifoldNET -> C:\\Users\\18311\\source\\repos\\manifold-csharp\\bindings\\csharp\\ManifoldNET\\bin\\Debug\\net8.0\\ManifoldNET.dll\n",
      "  ManifoldNET.Notebooks -> C:\\Users\\18311\\source\\repos\\manifold-csharp\\bindings\\csharp\\ManifoldNET.Notebooks\\bin\\Debug\\net8.0\\ManifoldNET.Notebooks.dll\n",
      "\n",
      "已成功生成。\n",
      "    0 个警告\n",
      "    0 个错误\n",
      "\n",
      "已用时间 00:00:01.32\n",
      "  Determining projects to restore...\n",
      "  已还原 C:\\Users\\18311\\source\\repos\\manifold-csharp\\bindings\\csharp\\ManifoldNET\\ManifoldNET.csproj (用时 204 毫秒)。\n",
      "  已还原 C:\\Users\\18311\\source\\repos\\manifold-csharp\\bindings\\csharp\\ManifoldNET.Notebooks\\ManifoldNET.Notebooks.csproj (用时 260 毫秒)。\n",
      "C:\\Program Files\\dotnet\\sdk\\8.0.303\\Sdks\\NuGet.Build.Tasks.Pack\\build\\NuGet.Build.Tasks.Pack.targets(221,5): error NU5026: 磁盘上找不到要打包的文件“C:\\Users\\18311\\source\\repos\\manifold-csharp\\bindings\\csharp\\ManifoldNET.Notebooks\\bin\\Release\\net8.0\\ManifoldNET.Notebooks.dll”。 [C:\\Users\\18311\\source\\repos\\manifold-csharp\\bindings\\csharp\\ManifoldNET.Notebooks\\ManifoldNET.Notebooks.csproj]\n",
      "\n",
      "    Directory: C:\\Users\\18311\\source\\repos\\manifold-csharp\\bindings\\csharp\\ManifoldNET.Notebooks\\bi\n",
      "n\\Debug\n",
      "\n",
      "\u001b[32;1mMode   \u001b[0m\u001b[32;1m              LastWriteTime\u001b[0m\u001b[32;1m         Length\u001b[0m\u001b[32;1m Name\u001b[0m\n",
      "\u001b[32;1m----   \u001b[0m \u001b[32;1m             -------------\u001b[0m \u001b[32;1m        ------\u001b[0m \u001b[32;1m----\u001b[0m\n",
      "-a---           2024/8/15    10:24           5595 \u001b[31;1mManifoldNET.Notebooks.1.0.0-alpha.nupkg\u001b[0m\n",
      "\n"
     ]
    },
    {
     "ename": "Error",
     "evalue": "Command failed: SubmitCode: # 1. Build the project ...",
     "output_type": "error",
     "traceback": [
      "Command failed: SubmitCode: # 1. Build the project ..."
     ]
    }
   ],
   "source": [
    "# 1. Build the project\n",
    "dotnet build ManifoldNET.Notebooks\n",
    "\n",
    "# Clear any older versions of this extension package from your NuGet cache\n",
    "rm ~/.nuget/packages/ManifoldNET.Notebooks -Force -Recurse -ErrorAction Ignore\n",
    "\n",
    "# 3. Check that the package is there\n",
    "Get-ChildItem -Recurse ManifoldNET.Notebooks*.nupkg"
   ]
  },
  {
   "cell_type": "code",
   "execution_count": 4,
   "metadata": {
    "vscode": {
     "languageId": "polyglot-notebook"
    }
   },
   "outputs": [
    {
     "data": {
      "text/plain": [
       "❌ Something must have gone wrong with the build. The package isn't there."
      ]
     },
     "metadata": {},
     "output_type": "display_data"
    }
   ],
   "source": [
    "using System.IO;\n",
    "\n",
    "// Create an absolute path since #i doesn't like \n",
    "var debugOutputFolder = new DirectoryInfo(@\".\\ManifoldNET.Notebooks\\bin\\Debug\\\").FullName;\n",
    "\n",
    "var file = Directory.GetFiles(debugOutputFolder, \"ManifoldNET.Notebooks*.nupkg\").FirstOrDefault();\n",
    "if (File.Exists(file))\n",
    "{\n",
    "    \"✅ The package is there!\".Display();\n",
    "} \n",
    "else\n",
    "{\n",
    "    \"❌ Something must have gone wrong with the build. The package isn't there.\".Display();\n",
    "}\n",
    "\n",
    "var nugetSource = $\"nuget:{debugOutputFolder}\";"
   ]
  }
 ],
 "metadata": {
  "kernelspec": {
   "display_name": ".NET (C#)",
   "language": "C#",
   "name": ".net-csharp"
  },
  "language_info": {
   "name": "python"
  },
  "polyglot_notebook": {
   "kernelInfo": {
    "defaultKernelName": "csharp",
    "items": [
     {
      "aliases": [],
      "name": "csharp"
     }
    ]
   }
  }
 },
 "nbformat": 4,
 "nbformat_minor": 2
}
