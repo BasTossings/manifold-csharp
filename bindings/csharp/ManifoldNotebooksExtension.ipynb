{
 "cells": [
  {
   "cell_type": "code",
   "execution_count": 1,
   "metadata": {
    "dotnet_interactive": {
     "language": "pwsh"
    },
    "polyglot_notebook": {
     "kernelName": "pwsh"
    },
    "vscode": {
     "languageId": "polyglot-notebook"
    }
   },
   "outputs": [
    {
     "name": "stdout",
     "output_type": "stream",
     "text": [
      "  Determining projects to restore...\n",
      "  所有项目均是最新的，无法还原。\n",
      "  ManifoldNET -> C:\\Users\\18311\\source\\repos\\manifold-csharp\\bindings\\csharp\\ManifoldNET\\bin\\Release_MeshExport\\net8.0\\ManifoldNET.dll\n",
      "  ManifoldNET.Notebooks -> C:\\Users\\18311\\source\\repos\\manifold-csharp\\bindings\\csharp\\ManifoldNET.Notebooks\\bin\\Release_MeshExport\\net8.0\\ManifoldNET.Notebooks.dll\n",
      "  包 ManifoldNET.Notebooks.1.0.0-alpha 缺少自述文件。转到 https://aka.ms/nuget/authoring-best-practices/readme 了解为什么包阅读主题很重要。\n",
      "  已成功创建包“C:\\Users\\18311\\source\\repos\\manifold-csharp\\bindings\\csharp\\ManifoldNET.Notebooks\\bin\\Release_MeshExport\\ManifoldNET.Notebooks.1.0.0-alpha.nupkg”。\n",
      "\n",
      "已成功生成。\n",
      "    0 个警告\n",
      "    0 个错误\n",
      "\n",
      "已用时间 00:00:01.18\n",
      "\n",
      "    Directory: C:\\Users\\18311\\source\\repos\\manifold-csharp\\bindings\\csharp\\ManifoldNET.Notebooks\\bi\n",
      "n\\Debug\n",
      "\n",
      "\u001b[32;1mMode   \u001b[0m\u001b[32;1m              LastWriteTime\u001b[0m\u001b[32;1m         Length\u001b[0m\u001b[32;1m Name\u001b[0m\n",
      "\u001b[32;1m----   \u001b[0m \u001b[32;1m             -------------\u001b[0m \u001b[32;1m        ------\u001b[0m \u001b[32;1m----\u001b[0m\n",
      "-a---           2024/8/15    11:34           5843 \u001b[31;1mManifoldNET.Notebooks.1.0.0-alpha.nupkg\u001b[0m\n",
      "\n",
      "    Directory: C:\\Users\\18311\\source\\repos\\manifold-csharp\\bindings\\csharp\\ManifoldNET.Notebooks\\bi\n",
      "n\\Debug_MeshExport\n",
      "\n",
      "\u001b[32;1mMode   \u001b[0m\u001b[32;1m              LastWriteTime\u001b[0m\u001b[32;1m         Length\u001b[0m\u001b[32;1m Name\u001b[0m\n",
      "\u001b[32;1m----   \u001b[0m \u001b[32;1m             -------------\u001b[0m \u001b[32;1m        ------\u001b[0m \u001b[32;1m----\u001b[0m\n",
      "-a---           2024/8/15    10:52           6394 \u001b[31;1mManifoldNET.Notebooks.1.0.0-alpha.nupkg\u001b[0m\n",
      "\n",
      "    Directory: C:\\Users\\18311\\source\\repos\\manifold-csharp\\bindings\\csharp\\ManifoldNET.Notebooks\\bi\n",
      "n\\Release\n",
      "\n",
      "\u001b[32;1mMode   \u001b[0m\u001b[32;1m              LastWriteTime\u001b[0m\u001b[32;1m         Length\u001b[0m\u001b[32;1m Name\u001b[0m\n",
      "\u001b[32;1m----   \u001b[0m \u001b[32;1m             -------------\u001b[0m \u001b[32;1m        ------\u001b[0m \u001b[32;1m----\u001b[0m\n",
      "-a---           2024/8/15    11:32           5731 \u001b[31;1mManifoldNET.Notebooks.1.0.0-alpha.nupkg\u001b[0m\n",
      "\n",
      "    Directory: C:\\Users\\18311\\source\\repos\\manifold-csharp\\bindings\\csharp\\ManifoldNET.Notebooks\\bi\n",
      "n\\Release_MeshExport\n",
      "\n",
      "\u001b[32;1mMode   \u001b[0m\u001b[32;1m              LastWriteTime\u001b[0m\u001b[32;1m         Length\u001b[0m\u001b[32;1m Name\u001b[0m\n",
      "\u001b[32;1m----   \u001b[0m \u001b[32;1m             -------------\u001b[0m \u001b[32;1m        ------\u001b[0m \u001b[32;1m----\u001b[0m\n",
      "-a---           2024/8/15    11:52           7078 \u001b[31;1mManifoldNET.Notebooks.1.0.0-alpha.nupkg\u001b[0m\n",
      "-a---           2024/8/15    11:01           6427 \u001b[31;1mManifoldNET.Notebooks.1.0.0.nupkg\u001b[0m\n",
      "\n"
     ]
    }
   ],
   "source": [
    "# 1. Build the project\n",
    "dotnet build ManifoldNET.Notebooks -c Release_MeshExport\n",
    "\n",
    "# Clear any older versions of this extension package from your NuGet cache\n",
    "rm ~/.nuget/packages/ManifoldNET.Notebooks -Force -Recurse -ErrorAction Ignore\n",
    "\n",
    "# 3. Check that the package is there\n",
    "Get-ChildItem -Recurse ManifoldNET.Notebooks*.nupkg"
   ]
  },
  {
   "cell_type": "code",
   "execution_count": 2,
   "metadata": {
    "dotnet_interactive": {
     "language": "csharp"
    },
    "polyglot_notebook": {
     "kernelName": "csharp"
    },
    "vscode": {
     "languageId": "polyglot-notebook"
    }
   },
   "outputs": [
    {
     "data": {
      "text/plain": [
       "✅ The package is there!"
      ]
     },
     "metadata": {},
     "output_type": "display_data"
    }
   ],
   "source": [
    "using System.IO;\n",
    "\n",
    "// Create an absolute path since #i doesn't like \n",
    "var debugOutputFolder = new DirectoryInfo(@\".\\ManifoldNET.Notebooks\\bin\\Release_MeshExport\\\").FullName;\n",
    "\n",
    "var file = Directory.GetFiles(debugOutputFolder, \"ManifoldNET.Notebooks*.nupkg\").FirstOrDefault();\n",
    "if (File.Exists(file))\n",
    "{\n",
    "    \"✅ The package is there!\".Display();\n",
    "} \n",
    "else\n",
    "{\n",
    "    \"❌ Something must have gone wrong with the build. The package isn't there.\".Display();\n",
    "}\n",
    "\n",
    "var nugetSource = $\"nuget:{debugOutputFolder}\";"
   ]
  },
  {
   "cell_type": "code",
   "execution_count": 3,
   "metadata": {
    "dotnet_interactive": {
     "language": "csharp"
    },
    "polyglot_notebook": {
     "kernelName": "csharp"
    },
    "vscode": {
     "languageId": "polyglot-notebook"
    }
   },
   "outputs": [
    {
     "data": {
      "text/html": [
       "<div><div><strong>Restore sources</strong><ul><li><span>c:\\Users\\18311\\source\\repos\\manifold-csharp\\bindings\\csharp\\ManifoldNET.Notebooks\\bin\\Release_MeshExport\\</span></li></ul></div><div></div><div></div></div>"
      ]
     },
     "metadata": {},
     "output_type": "display_data"
    }
   ],
   "source": [
    "#i @csharp:nugetSource"
   ]
  },
  {
   "cell_type": "code",
   "execution_count": 4,
   "metadata": {
    "dotnet_interactive": {
     "language": "csharp"
    },
    "polyglot_notebook": {
     "kernelName": "csharp"
    },
    "vscode": {
     "languageId": "polyglot-notebook"
    }
   },
   "outputs": [
    {
     "data": {
      "text/html": [
       "<div><div><strong>Restore sources</strong><ul><li><span>c:\\Users\\18311\\source\\repos\\manifold-csharp\\bindings\\csharp\\ManifoldNET.Notebooks\\bin\\Release_MeshExport\\</span></li></ul></div><div></div><div><strong>Installed Packages</strong><ul><li><span>ManifoldNET.Notebooks, 1.0.0-alpha</span></li></ul></div></div>"
      ]
     },
     "metadata": {},
     "output_type": "display_data"
    },
    {
     "data": {
      "text/plain": [
       "Loading extension script from `C:\\Users\\18311\\.nuget\\packages\\manifoldnet.notebooks\\1.0.0-alpha\\interactive-extensions\\dotnet\\extension.dib`"
      ]
     },
     "metadata": {},
     "output_type": "display_data"
    },
    {
     "data": {
      "text/html": [
       "<div><code>ManifoldNET.Notebooks</code> is loaded. It adds visualizations for <code>ManifoldNET.Manifold</code>. Try it by running: <code>Manifold.Cube(1, 1, 1, true)</code> or using magic code to disply glb file:<code>#!glb -f c:/path/to/name.glb</code></div>"
      ]
     },
     "metadata": {},
     "output_type": "display_data"
    }
   ],
   "source": [
    "#r \"nuget:ManifoldNET.Notebooks, 1.0.0-alpha\""
   ]
  },
  {
   "cell_type": "code",
   "execution_count": 5,
   "metadata": {
    "dotnet_interactive": {
     "language": "csharp"
    },
    "polyglot_notebook": {
     "kernelName": "csharp"
    },
    "vscode": {
     "languageId": "polyglot-notebook"
    }
   },
   "outputs": [],
   "source": [
    "using ManifoldNET;"
   ]
  },
  {
   "cell_type": "code",
   "execution_count": 6,
   "metadata": {
    "dotnet_interactive": {
     "language": "csharp"
    },
    "polyglot_notebook": {
     "kernelName": "csharp"
    },
    "vscode": {
     "languageId": "polyglot-notebook"
    }
   },
   "outputs": [
    {
     "data": {
      "text/html": [
       "<!DOCTYPE html>\r\n",
       "<html lang=\"en\">\r\n",
       "<head>\r\n",
       "    <meta charset=\"UTF-8\">\r\n",
       "    <meta name=\"viewport\" content=\"width=device-width, initial-scale=1.0\">\r\n",
       "    <script type=\"module\" src=\"https://ajax.googleapis.com/ajax/libs/model-viewer/3.5.0/model-viewer.min.js\"></script>\r\n",
       "    <script src=\"https://cdn.jsdelivr.net/npm/js-base64@3.6.1/base64.min.js\"></script>\r\n",
       "    <style>\r\n",
       "        html, body {\r\n",
       "            height: 100%;\r\n",
       "            margin: 0;\r\n",
       "            padding: 0;\r\n",
       "        }\r\n",
       "\r\n",
       "        model-viewer {\r\n",
       "            width: 100%;\r\n",
       "            height: 500px;\r\n",
       "        }\r\n",
       "    </style>\r\n",
       "</head>\r\n",
       "<body>\r\n",
       "    <model-viewer id=\"modelViewer\"\r\n",
       "        autoplay\r\n",
       "        alt=\"3D Model\"\r\n",
       "        shadow-intensity=\"1\" camera-controls\r\n",
       "        touch-action=\"pan-y\" src=\"data:image/jpeg;base64, Z2xURgIAAAAgBAAAFAMAAEpTT057ImFzc2V0Ijp7InZlcnNpb24iOiIyLjAiLCJnZW5lcmF0b3IiOiJPcGVuIEFzc2V0IEltcG9ydCBMaWJyYXJ5IChhc3NpbXAgdjUuMy4wKSJ9LCJleHRlbnNpb25zVXNlZCI6WyJLSFJfbWF0ZXJpYWxzX3ZvbHVtZSIsIkZCX25nb25fZW5jb2RpbmciXSwiYWNjZXNzb3JzIjpbeyJidWZmZXJWaWV3IjowLCJieXRlT2Zmc2V0IjowLCJjb21wb25lbnRUeXBlIjo1MTI2LCJjb3VudCI6OCwidHlwZSI6IlZFQzMiLCJtYXgiOlsxLjAsMS4wLDEuMF0sIm1pbiI6WzAuMCwwLjAsMC4wXX0seyJidWZmZXJWaWV3IjoxLCJieXRlT2Zmc2V0IjowLCJjb21wb25lbnRUeXBlIjo1MTI1LCJjb3VudCI6MzYsInR5cGUiOiJTQ0FMQVIiLCJtYXgiOls3XSwibWluIjpbMF19XSwiYnVmZmVycyI6W3siYnl0ZUxlbmd0aCI6MjQwfV0sImJ1ZmZlclZpZXdzIjpbeyJidWZmZXIiOjAsImJ5dGVPZmZzZXQiOjAsImJ5dGVMZW5ndGgiOjk2LCJ0YXJnZXQiOjM0OTYyfSx7ImJ1ZmZlciI6MCwiYnl0ZU9mZnNldCI6OTYsImJ5dGVMZW5ndGgiOjE0NCwidGFyZ2V0IjozNDk2M31dLCJtYXRlcmlhbHMiOlt7Im5hbWUiOiJtYXRlcmlhbCIsInBick1ldGFsbGljUm91Z2huZXNzIjp7InJvdWdobmVzc0ZhY3RvciI6MC4yMDAwMDAwMDI5ODAyMzIyNH19XSwibWVzaGVzIjpbeyJwcmltaXRpdmVzIjpbeyJtb2RlIjo0LCJtYXRlcmlhbCI6MCwiaW5kaWNlcyI6MSwiYXR0cmlidXRlcyI6eyJQT1NJVElPTiI6MH19XX1dLCJub2RlcyI6W3sibWVzaCI6MH1dLCJzY2VuZXMiOlt7Im5vZGVzIjpbMF19XSwic2NlbmUiOjB9IPAAAABCSU4AAAAAAAAAAAAAAAAAAAAAAAAAgD8AAAAAAACAPwAAAAAAAAAAAACAPwAAgD8AAAAAAAAAAAAAAAAAAIA/AAAAAAAAgD8AAIA/AACAPwAAAAAAAIA/AACAPwAAgD8AAIA/AQAAAAAAAAAEAAAAAgAAAAQAAAAAAAAAAQAAAAMAAAAAAAAAAwAAAAEAAAAFAAAAAwAAAAIAAAAAAAAAAwAAAAcAAAACAAAABQAAAAQAAAAGAAAABQAAAAEAAAAEAAAABgAAAAQAAAACAAAABwAAAAYAAAACAAAABwAAAAMAAAAFAAAABwAAAAUAAAAGAAAA\"></model-viewer>\r\n",
       "</body>\r\n",
       "</html>"
      ]
     },
     "metadata": {},
     "output_type": "display_data"
    }
   ],
   "source": [
    "var cube = Manifold.Cube(1,1,1);\n",
    "cube.MeshGL.ExportMeshGL(\"cube.glb\");\n",
    "#!glb -f cube.glb"
   ]
  }
 ],
 "metadata": {
  "kernelspec": {
   "display_name": ".NET (C#)",
   "language": "C#",
   "name": ".net-csharp"
  },
  "language_info": {
   "name": "python"
  },
  "polyglot_notebook": {
   "kernelInfo": {
    "defaultKernelName": "csharp",
    "items": [
     {
      "aliases": [],
      "name": "csharp"
     }
    ]
   }
  }
 },
 "nbformat": 4,
 "nbformat_minor": 2
}
